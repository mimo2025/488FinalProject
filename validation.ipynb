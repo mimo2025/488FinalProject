{
 "cells": [
  {
   "cell_type": "code",
   "execution_count": 1,
   "metadata": {},
   "outputs": [
    {
     "name": "stderr",
     "output_type": "stream",
     "text": [
      "/var/folders/r7/8vd8x98935g_j6xjscspbwr80000gn/T/ipykernel_98481/3787693704.py:3: DeprecationWarning: \n",
      "Pyarrow will become a required dependency of pandas in the next major release of pandas (pandas 3.0),\n",
      "(to allow more performant data types, such as the Arrow string type, and better interoperability with other libraries)\n",
      "but was not found to be installed on your system.\n",
      "If this would cause problems for you,\n",
      "please provide us feedback at https://github.com/pandas-dev/pandas/issues/54466\n",
      "        \n",
      "  import pandas as pd\n"
     ]
    }
   ],
   "source": [
    "# Load Validation Data:\n",
    "import numpy as np \n",
    "import pandas as pd\n",
    "validation_data = pd.read_csv('validation_data.csv')\n"
   ]
  },
  {
   "cell_type": "markdown",
   "metadata": {},
   "source": [
    "# Creating a list of comments."
   ]
  },
  {
   "cell_type": "code",
   "execution_count": 2,
   "metadata": {},
   "outputs": [
    {
     "data": {
      "text/plain": [
       "count       500\n",
       "unique      497\n",
       "top       easy,\n",
       "freq          2\n",
       "Name: text, dtype: object"
      ]
     },
     "execution_count": 2,
     "metadata": {},
     "output_type": "execute_result"
    }
   ],
   "source": [
    "# Function to convert each sentence to the desired format\n",
    "def convert_to_array(text):\n",
    "    return f'{text},'\n",
    "\n",
    "# Apply the function to the DataFrame\n",
    "comments = validation_data['text'].apply(convert_to_array)\n",
    "comments.describe()"
   ]
  },
  {
   "cell_type": "markdown",
   "metadata": {},
   "source": [
    "# 2. OpenAI API Labeling"
   ]
  },
  {
   "cell_type": "code",
   "execution_count": 3,
   "metadata": {},
   "outputs": [
    {
     "name": "stdout",
     "output_type": "stream",
     "text": [
      "\u001b[33mDEPRECATION: Configuring installation scheme with distutils config files is deprecated and will no longer work in the near future. If you are using a Homebrew or Linuxbrew Python, please see discussion at https://github.com/Homebrew/homebrew-core/issues/76621\u001b[0m\u001b[33m\n",
      "\u001b[0mRequirement already satisfied: openai in /usr/local/lib/python3.9/site-packages (1.25.1)\n",
      "Requirement already satisfied: anyio<5,>=3.5.0 in /usr/local/lib/python3.9/site-packages (from openai) (4.2.0)\n",
      "Requirement already satisfied: tqdm>4 in /usr/local/lib/python3.9/site-packages (from openai) (4.66.2)\n",
      "Requirement already satisfied: httpx<1,>=0.23.0 in /usr/local/lib/python3.9/site-packages (from openai) (0.26.0)\n",
      "Requirement already satisfied: distro<2,>=1.7.0 in /usr/local/lib/python3.9/site-packages (from openai) (1.9.0)\n",
      "Requirement already satisfied: sniffio in /usr/local/lib/python3.9/site-packages (from openai) (1.3.0)\n",
      "Requirement already satisfied: pydantic<3,>=1.9.0 in /usr/local/lib/python3.9/site-packages (from openai) (2.6.1)\n",
      "Requirement already satisfied: typing-extensions<5,>=4.7 in /usr/local/lib/python3.9/site-packages (from openai) (4.9.0)\n",
      "Requirement already satisfied: idna>=2.8 in /usr/local/lib/python3.9/site-packages (from anyio<5,>=3.5.0->openai) (3.6)\n",
      "Requirement already satisfied: exceptiongroup>=1.0.2 in /usr/local/lib/python3.9/site-packages (from anyio<5,>=3.5.0->openai) (1.2.0)\n",
      "Requirement already satisfied: httpcore==1.* in /usr/local/lib/python3.9/site-packages (from httpx<1,>=0.23.0->openai) (1.0.2)\n",
      "Requirement already satisfied: certifi in /usr/local/lib/python3.9/site-packages (from httpx<1,>=0.23.0->openai) (2024.2.2)\n",
      "Requirement already satisfied: h11<0.15,>=0.13 in /usr/local/lib/python3.9/site-packages (from httpcore==1.*->httpx<1,>=0.23.0->openai) (0.14.0)\n",
      "Requirement already satisfied: annotated-types>=0.4.0 in /usr/local/lib/python3.9/site-packages (from pydantic<3,>=1.9.0->openai) (0.6.0)\n",
      "Requirement already satisfied: pydantic-core==2.16.2 in /usr/local/lib/python3.9/site-packages (from pydantic<3,>=1.9.0->openai) (2.16.2)\n",
      "\u001b[33mDEPRECATION: Configuring installation scheme with distutils config files is deprecated and will no longer work in the near future. If you are using a Homebrew or Linuxbrew Python, please see discussion at https://github.com/Homebrew/homebrew-core/issues/76621\u001b[0m\u001b[33m\n",
      "\u001b[0m\u001b[33mWARNING: There was an error checking the latest version of pip.\u001b[0m\u001b[33m\n",
      "\u001b[0m\u001b[33mDEPRECATION: Configuring installation scheme with distutils config files is deprecated and will no longer work in the near future. If you are using a Homebrew or Linuxbrew Python, please see discussion at https://github.com/Homebrew/homebrew-core/issues/76621\u001b[0m\u001b[33m\n",
      "\u001b[0mRequirement already satisfied: transformers[torch] in /usr/local/lib/python3.9/site-packages (4.40.1)\n",
      "Requirement already satisfied: requests in /usr/local/lib/python3.9/site-packages (from transformers[torch]) (2.31.0)\n",
      "Requirement already satisfied: numpy>=1.17 in /usr/local/lib/python3.9/site-packages (from transformers[torch]) (1.26.4)\n",
      "Requirement already satisfied: packaging>=20.0 in /usr/local/lib/python3.9/site-packages (from transformers[torch]) (21.3)\n",
      "Requirement already satisfied: huggingface-hub<1.0,>=0.19.3 in /usr/local/lib/python3.9/site-packages (from transformers[torch]) (0.22.2)\n",
      "Requirement already satisfied: safetensors>=0.4.1 in /usr/local/lib/python3.9/site-packages (from transformers[torch]) (0.4.3)\n",
      "Requirement already satisfied: pyyaml>=5.1 in /usr/local/lib/python3.9/site-packages (from transformers[torch]) (6.0.1)\n",
      "Requirement already satisfied: regex!=2019.12.17 in /usr/local/lib/python3.9/site-packages (from transformers[torch]) (2024.4.28)\n",
      "Requirement already satisfied: tqdm>=4.27 in /usr/local/lib/python3.9/site-packages (from transformers[torch]) (4.66.2)\n",
      "Requirement already satisfied: filelock in /usr/local/lib/python3.9/site-packages (from transformers[torch]) (3.14.0)\n",
      "Requirement already satisfied: tokenizers<0.20,>=0.19 in /usr/local/lib/python3.9/site-packages (from transformers[torch]) (0.19.1)\n",
      "Requirement already satisfied: torch in /usr/local/lib/python3.9/site-packages (from transformers[torch]) (2.2.2)\n",
      "Collecting accelerate>=0.21.0\n",
      "  Downloading accelerate-0.30.0-py3-none-any.whl (302 kB)\n",
      "\u001b[2K     \u001b[90m━━━━━━━━━━━━━━━━━━━━━━━━━━━━━━━━━━━━━\u001b[0m \u001b[32m302.4/302.4 kB\u001b[0m \u001b[31m325.6 kB/s\u001b[0m eta \u001b[36m0:00:00\u001b[0m00:01\u001b[0m00:01\u001b[0m\n",
      "\u001b[?25hRequirement already satisfied: psutil in /usr/local/lib/python3.9/site-packages (from accelerate>=0.21.0->transformers[torch]) (5.9.1)\n",
      "Requirement already satisfied: fsspec>=2023.5.0 in /usr/local/lib/python3.9/site-packages (from huggingface-hub<1.0,>=0.19.3->transformers[torch]) (2024.3.1)\n",
      "Requirement already satisfied: typing-extensions>=3.7.4.3 in /usr/local/lib/python3.9/site-packages (from huggingface-hub<1.0,>=0.19.3->transformers[torch]) (4.9.0)\n",
      "Requirement already satisfied: pyparsing!=3.0.5,>=2.0.2 in /usr/local/lib/python3.9/site-packages (from packaging>=20.0->transformers[torch]) (3.0.9)\n",
      "Requirement already satisfied: jinja2 in /usr/local/lib/python3.9/site-packages (from torch->transformers[torch]) (3.1.3)\n",
      "Requirement already satisfied: networkx in /usr/local/lib/python3.9/site-packages (from torch->transformers[torch]) (3.2.1)\n",
      "Requirement already satisfied: sympy in /usr/local/lib/python3.9/site-packages (from torch->transformers[torch]) (1.12)\n",
      "Requirement already satisfied: charset-normalizer<4,>=2 in /usr/local/lib/python3.9/site-packages (from requests->transformers[torch]) (3.3.2)\n",
      "Requirement already satisfied: idna<4,>=2.5 in /usr/local/lib/python3.9/site-packages (from requests->transformers[torch]) (3.6)\n",
      "Requirement already satisfied: urllib3<3,>=1.21.1 in /usr/local/lib/python3.9/site-packages (from requests->transformers[torch]) (2.2.1)\n",
      "Requirement already satisfied: certifi>=2017.4.17 in /usr/local/lib/python3.9/site-packages (from requests->transformers[torch]) (2024.2.2)\n",
      "Requirement already satisfied: MarkupSafe>=2.0 in /usr/local/lib/python3.9/site-packages (from jinja2->torch->transformers[torch]) (2.1.5)\n",
      "Requirement already satisfied: mpmath>=0.19 in /usr/local/lib/python3.9/site-packages (from sympy->torch->transformers[torch]) (1.3.0)\n",
      "Installing collected packages: accelerate\n",
      "\u001b[33m  DEPRECATION: Configuring installation scheme with distutils config files is deprecated and will no longer work in the near future. If you are using a Homebrew or Linuxbrew Python, please see discussion at https://github.com/Homebrew/homebrew-core/issues/76621\u001b[0m\u001b[33m\n",
      "\u001b[0m\u001b[33mDEPRECATION: Configuring installation scheme with distutils config files is deprecated and will no longer work in the near future. If you are using a Homebrew or Linuxbrew Python, please see discussion at https://github.com/Homebrew/homebrew-core/issues/76621\u001b[0m\u001b[33m\n",
      "\u001b[0mSuccessfully installed accelerate-0.30.0\n",
      "\u001b[33mWARNING: There was an error checking the latest version of pip.\u001b[0m\u001b[33m\n",
      "\u001b[0m\u001b[33mDEPRECATION: Configuring installation scheme with distutils config files is deprecated and will no longer work in the near future. If you are using a Homebrew or Linuxbrew Python, please see discussion at https://github.com/Homebrew/homebrew-core/issues/76621\u001b[0m\u001b[33m\n",
      "\u001b[0mRequirement already satisfied: accelerate in /usr/local/lib/python3.9/site-packages (0.30.0)\n",
      "Requirement already satisfied: torch>=1.10.0 in /usr/local/lib/python3.9/site-packages (from accelerate) (2.2.2)\n",
      "Requirement already satisfied: pyyaml in /usr/local/lib/python3.9/site-packages (from accelerate) (6.0.1)\n",
      "Requirement already satisfied: numpy>=1.17 in /usr/local/lib/python3.9/site-packages (from accelerate) (1.26.4)\n",
      "Requirement already satisfied: psutil in /usr/local/lib/python3.9/site-packages (from accelerate) (5.9.1)\n",
      "Requirement already satisfied: safetensors>=0.3.1 in /usr/local/lib/python3.9/site-packages (from accelerate) (0.4.3)\n",
      "Requirement already satisfied: huggingface-hub in /usr/local/lib/python3.9/site-packages (from accelerate) (0.22.2)\n",
      "Requirement already satisfied: packaging>=20.0 in /usr/local/lib/python3.9/site-packages (from accelerate) (21.3)\n",
      "Requirement already satisfied: pyparsing!=3.0.5,>=2.0.2 in /usr/local/lib/python3.9/site-packages (from packaging>=20.0->accelerate) (3.0.9)\n",
      "Requirement already satisfied: filelock in /usr/local/lib/python3.9/site-packages (from torch>=1.10.0->accelerate) (3.14.0)\n",
      "Requirement already satisfied: networkx in /usr/local/lib/python3.9/site-packages (from torch>=1.10.0->accelerate) (3.2.1)\n",
      "Requirement already satisfied: sympy in /usr/local/lib/python3.9/site-packages (from torch>=1.10.0->accelerate) (1.12)\n",
      "Requirement already satisfied: jinja2 in /usr/local/lib/python3.9/site-packages (from torch>=1.10.0->accelerate) (3.1.3)\n",
      "Requirement already satisfied: fsspec in /usr/local/lib/python3.9/site-packages (from torch>=1.10.0->accelerate) (2024.3.1)\n",
      "Requirement already satisfied: typing-extensions>=4.8.0 in /usr/local/lib/python3.9/site-packages (from torch>=1.10.0->accelerate) (4.9.0)\n",
      "Requirement already satisfied: requests in /usr/local/lib/python3.9/site-packages (from huggingface-hub->accelerate) (2.31.0)\n",
      "Requirement already satisfied: tqdm>=4.42.1 in /usr/local/lib/python3.9/site-packages (from huggingface-hub->accelerate) (4.66.2)\n",
      "Requirement already satisfied: MarkupSafe>=2.0 in /usr/local/lib/python3.9/site-packages (from jinja2->torch>=1.10.0->accelerate) (2.1.5)\n",
      "Requirement already satisfied: certifi>=2017.4.17 in /usr/local/lib/python3.9/site-packages (from requests->huggingface-hub->accelerate) (2024.2.2)\n",
      "Requirement already satisfied: idna<4,>=2.5 in /usr/local/lib/python3.9/site-packages (from requests->huggingface-hub->accelerate) (3.6)\n",
      "Requirement already satisfied: urllib3<3,>=1.21.1 in /usr/local/lib/python3.9/site-packages (from requests->huggingface-hub->accelerate) (2.2.1)\n",
      "Requirement already satisfied: charset-normalizer<4,>=2 in /usr/local/lib/python3.9/site-packages (from requests->huggingface-hub->accelerate) (3.3.2)\n",
      "Requirement already satisfied: mpmath>=0.19 in /usr/local/lib/python3.9/site-packages (from sympy->torch>=1.10.0->accelerate) (1.3.0)\n",
      "\u001b[33mDEPRECATION: Configuring installation scheme with distutils config files is deprecated and will no longer work in the near future. If you are using a Homebrew or Linuxbrew Python, please see discussion at https://github.com/Homebrew/homebrew-core/issues/76621\u001b[0m\u001b[33m\n",
      "\u001b[0m\u001b[33mWARNING: There was an error checking the latest version of pip.\u001b[0m\u001b[33m\n",
      "\u001b[0m\u001b[33mDEPRECATION: Configuring installation scheme with distutils config files is deprecated and will no longer work in the near future. If you are using a Homebrew or Linuxbrew Python, please see discussion at https://github.com/Homebrew/homebrew-core/issues/76621\u001b[0m\u001b[33m\n",
      "\u001b[0mCollecting krippendorff\n",
      "  Downloading krippendorff-0.6.1-py3-none-any.whl (18 kB)\n",
      "Requirement already satisfied: numpy<2.0,>=1.21 in /usr/local/lib/python3.9/site-packages (from krippendorff) (1.26.4)\n",
      "Installing collected packages: krippendorff\n",
      "\u001b[33m  DEPRECATION: Configuring installation scheme with distutils config files is deprecated and will no longer work in the near future. If you are using a Homebrew or Linuxbrew Python, please see discussion at https://github.com/Homebrew/homebrew-core/issues/76621\u001b[0m\u001b[33m\n",
      "\u001b[0m\u001b[33mDEPRECATION: Configuring installation scheme with distutils config files is deprecated and will no longer work in the near future. If you are using a Homebrew or Linuxbrew Python, please see discussion at https://github.com/Homebrew/homebrew-core/issues/76621\u001b[0m\u001b[33m\n",
      "\u001b[0mSuccessfully installed krippendorff-0.6.1\n",
      "\u001b[33mWARNING: There was an error checking the latest version of pip.\u001b[0m\u001b[33m\n",
      "\u001b[0m\u001b[33mDEPRECATION: Configuring installation scheme with distutils config files is deprecated and will no longer work in the near future. If you are using a Homebrew or Linuxbrew Python, please see discussion at https://github.com/Homebrew/homebrew-core/issues/76621\u001b[0m\u001b[33m\n",
      "\u001b[0mCollecting datasets\n",
      "  Downloading datasets-2.19.0-py3-none-any.whl (542 kB)\n",
      "\u001b[2K     \u001b[90m━━━━━━━━━━━━━━━━━━━━━━━━━━━━━━━━━━━━━━━\u001b[0m \u001b[32m542.0/542.0 kB\u001b[0m \u001b[31m1.3 MB/s\u001b[0m eta \u001b[36m0:00:00\u001b[0m00:01\u001b[0m00:01\u001b[0m\n",
      "\u001b[?25hRequirement already satisfied: packaging in /usr/local/lib/python3.9/site-packages (from datasets) (21.3)\n",
      "Requirement already satisfied: numpy>=1.17 in /usr/local/lib/python3.9/site-packages (from datasets) (1.26.4)\n",
      "Collecting aiohttp\n",
      "  Downloading aiohttp-3.9.5-cp39-cp39-macosx_10_9_x86_64.whl (401 kB)\n",
      "\u001b[2K     \u001b[90m━━━━━━━━━━━━━━━━━━━━━━━━━━━━━━━━━━━━━━━\u001b[0m \u001b[32m401.6/401.6 kB\u001b[0m \u001b[31m8.0 MB/s\u001b[0m eta \u001b[36m0:00:00\u001b[0m00:01\u001b[0m\n",
      "\u001b[?25hRequirement already satisfied: requests>=2.19.0 in /usr/local/lib/python3.9/site-packages (from datasets) (2.31.0)\n",
      "Collecting xxhash\n",
      "  Downloading xxhash-3.4.1-cp39-cp39-macosx_10_9_x86_64.whl (31 kB)\n",
      "Requirement already satisfied: fsspec[http]<=2024.3.1,>=2023.1.0 in /usr/local/lib/python3.9/site-packages (from datasets) (2024.3.1)\n",
      "Requirement already satisfied: pandas in /usr/local/lib/python3.9/site-packages (from datasets) (2.2.0)\n",
      "Requirement already satisfied: pyyaml>=5.1 in /usr/local/lib/python3.9/site-packages (from datasets) (6.0.1)\n",
      "Collecting pyarrow>=12.0.0\n",
      "  Downloading pyarrow-16.0.0-cp39-cp39-macosx_10_15_x86_64.whl (29.1 MB)\n",
      "\u001b[2K     \u001b[90m━━━━━━━━━━━━━━━━━━━━━━━━━━━━━━━━━━━━━━━\u001b[0m \u001b[32m29.1/29.1 MB\u001b[0m \u001b[31m201.5 kB/s\u001b[0m eta \u001b[36m0:00:00\u001b[0m00:01\u001b[0m00:04\u001b[0m\n",
      "\u001b[?25hCollecting pyarrow-hotfix\n",
      "  Downloading pyarrow_hotfix-0.6-py3-none-any.whl (7.9 kB)\n",
      "Requirement already satisfied: tqdm>=4.62.1 in /usr/local/lib/python3.9/site-packages (from datasets) (4.66.2)\n",
      "Collecting dill<0.3.9,>=0.3.0\n",
      "  Downloading dill-0.3.8-py3-none-any.whl (116 kB)\n",
      "\u001b[2K     \u001b[90m━━━━━━━━━━━━━━━━━━━━━━━━━━━━━━━━━━━━━\u001b[0m \u001b[32m116.3/116.3 kB\u001b[0m \u001b[31m323.3 kB/s\u001b[0m eta \u001b[36m0:00:00\u001b[0ma \u001b[36m0:00:01\u001b[0m\n",
      "\u001b[?25hCollecting multiprocess\n",
      "  Downloading multiprocess-0.70.16-py39-none-any.whl (133 kB)\n",
      "\u001b[2K     \u001b[90m━━━━━━━━━━━━━━━━━━━━━━━━━━━━━━━━━━━━━\u001b[0m \u001b[32m133.4/133.4 kB\u001b[0m \u001b[31m347.0 kB/s\u001b[0m eta \u001b[36m0:00:00\u001b[0m00:01\u001b[0m00:01\u001b[0m\n",
      "\u001b[?25hRequirement already satisfied: huggingface-hub>=0.21.2 in /usr/local/lib/python3.9/site-packages (from datasets) (0.22.2)\n",
      "Requirement already satisfied: filelock in /usr/local/lib/python3.9/site-packages (from datasets) (3.14.0)\n",
      "Collecting frozenlist>=1.1.1\n",
      "  Downloading frozenlist-1.4.1-cp39-cp39-macosx_10_9_x86_64.whl (55 kB)\n",
      "\u001b[2K     \u001b[90m━━━━━━━━━━━━━━━━━━━━━━━━━━━━━━━━━━━━━━━\u001b[0m \u001b[32m55.2/55.2 kB\u001b[0m \u001b[31m343.4 kB/s\u001b[0m eta \u001b[36m0:00:00\u001b[0ma \u001b[36m0:00:01\u001b[0m\n",
      "\u001b[?25hCollecting multidict<7.0,>=4.5\n",
      "  Downloading multidict-6.0.5-cp39-cp39-macosx_10_9_x86_64.whl (30 kB)\n",
      "Collecting yarl<2.0,>=1.0\n",
      "  Downloading yarl-1.9.4-cp39-cp39-macosx_10_9_x86_64.whl (83 kB)\n",
      "\u001b[2K     \u001b[90m━━━━━━━━━━━━━━━━━━━━━━━━━━━━━━━━━━━━━━━\u001b[0m \u001b[32m83.7/83.7 kB\u001b[0m \u001b[31m503.6 kB/s\u001b[0m eta \u001b[36m0:00:00\u001b[0ma \u001b[36m0:00:01\u001b[0m\n",
      "\u001b[?25hCollecting aiosignal>=1.1.2\n",
      "  Downloading aiosignal-1.3.1-py3-none-any.whl (7.6 kB)\n",
      "Collecting attrs>=17.3.0\n",
      "  Downloading attrs-23.2.0-py3-none-any.whl (60 kB)\n",
      "\u001b[2K     \u001b[90m━━━━━━━━━━━━━━━━━━━━━━━━━━━━━━━━━━━━━━━\u001b[0m \u001b[32m60.8/60.8 kB\u001b[0m \u001b[31m266.5 kB/s\u001b[0m eta \u001b[36m0:00:00\u001b[0ma \u001b[36m0:00:01\u001b[0m\n",
      "\u001b[?25hCollecting async-timeout<5.0,>=4.0\n",
      "  Downloading async_timeout-4.0.3-py3-none-any.whl (5.7 kB)\n",
      "Requirement already satisfied: typing-extensions>=3.7.4.3 in /usr/local/lib/python3.9/site-packages (from huggingface-hub>=0.21.2->datasets) (4.9.0)\n",
      "Requirement already satisfied: pyparsing!=3.0.5,>=2.0.2 in /usr/local/lib/python3.9/site-packages (from packaging->datasets) (3.0.9)\n",
      "Requirement already satisfied: certifi>=2017.4.17 in /usr/local/lib/python3.9/site-packages (from requests>=2.19.0->datasets) (2024.2.2)\n",
      "Requirement already satisfied: charset-normalizer<4,>=2 in /usr/local/lib/python3.9/site-packages (from requests>=2.19.0->datasets) (3.3.2)\n",
      "Requirement already satisfied: idna<4,>=2.5 in /usr/local/lib/python3.9/site-packages (from requests>=2.19.0->datasets) (3.6)\n",
      "Requirement already satisfied: urllib3<3,>=1.21.1 in /usr/local/lib/python3.9/site-packages (from requests>=2.19.0->datasets) (2.2.1)\n",
      "Requirement already satisfied: pytz>=2020.1 in /usr/local/lib/python3.9/site-packages (from pandas->datasets) (2024.1)\n",
      "Requirement already satisfied: tzdata>=2022.7 in /usr/local/lib/python3.9/site-packages (from pandas->datasets) (2023.4)\n",
      "Requirement already satisfied: python-dateutil>=2.8.2 in /usr/local/lib/python3.9/site-packages (from pandas->datasets) (2.8.2)\n",
      "Requirement already satisfied: six>=1.5 in /usr/local/lib/python3.9/site-packages (from python-dateutil>=2.8.2->pandas->datasets) (1.16.0)\n",
      "Installing collected packages: xxhash, pyarrow-hotfix, pyarrow, multidict, frozenlist, dill, attrs, async-timeout, yarl, multiprocess, aiosignal, aiohttp, datasets\n",
      "\u001b[33m  DEPRECATION: Configuring installation scheme with distutils config files is deprecated and will no longer work in the near future. If you are using a Homebrew or Linuxbrew Python, please see discussion at https://github.com/Homebrew/homebrew-core/issues/76621\u001b[0m\u001b[33m\n",
      "\u001b[0m\u001b[33m  DEPRECATION: Configuring installation scheme with distutils config files is deprecated and will no longer work in the near future. If you are using a Homebrew or Linuxbrew Python, please see discussion at https://github.com/Homebrew/homebrew-core/issues/76621\u001b[0m\u001b[33m\n",
      "\u001b[0m\u001b[33m  DEPRECATION: Configuring installation scheme with distutils config files is deprecated and will no longer work in the near future. If you are using a Homebrew or Linuxbrew Python, please see discussion at https://github.com/Homebrew/homebrew-core/issues/76621\u001b[0m\u001b[33m\n",
      "\u001b[0m\u001b[33m  DEPRECATION: Configuring installation scheme with distutils config files is deprecated and will no longer work in the near future. If you are using a Homebrew or Linuxbrew Python, please see discussion at https://github.com/Homebrew/homebrew-core/issues/76621\u001b[0m\u001b[33m\n",
      "\u001b[0m\u001b[33m  DEPRECATION: Configuring installation scheme with distutils config files is deprecated and will no longer work in the near future. If you are using a Homebrew or Linuxbrew Python, please see discussion at https://github.com/Homebrew/homebrew-core/issues/76621\u001b[0m\u001b[33m\n",
      "\u001b[0m\u001b[33m  DEPRECATION: Configuring installation scheme with distutils config files is deprecated and will no longer work in the near future. If you are using a Homebrew or Linuxbrew Python, please see discussion at https://github.com/Homebrew/homebrew-core/issues/76621\u001b[0m\u001b[33m\n",
      "\u001b[0m\u001b[33m  DEPRECATION: Configuring installation scheme with distutils config files is deprecated and will no longer work in the near future. If you are using a Homebrew or Linuxbrew Python, please see discussion at https://github.com/Homebrew/homebrew-core/issues/76621\u001b[0m\u001b[33m\n",
      "\u001b[0m\u001b[33m  DEPRECATION: Configuring installation scheme with distutils config files is deprecated and will no longer work in the near future. If you are using a Homebrew or Linuxbrew Python, please see discussion at https://github.com/Homebrew/homebrew-core/issues/76621\u001b[0m\u001b[33m\n",
      "\u001b[0m\u001b[33m  DEPRECATION: Configuring installation scheme with distutils config files is deprecated and will no longer work in the near future. If you are using a Homebrew or Linuxbrew Python, please see discussion at https://github.com/Homebrew/homebrew-core/issues/76621\u001b[0m\u001b[33m\n",
      "\u001b[0m\u001b[33m  DEPRECATION: Configuring installation scheme with distutils config files is deprecated and will no longer work in the near future. If you are using a Homebrew or Linuxbrew Python, please see discussion at https://github.com/Homebrew/homebrew-core/issues/76621\u001b[0m\u001b[33m\n",
      "\u001b[0m\u001b[33m  DEPRECATION: Configuring installation scheme with distutils config files is deprecated and will no longer work in the near future. If you are using a Homebrew or Linuxbrew Python, please see discussion at https://github.com/Homebrew/homebrew-core/issues/76621\u001b[0m\u001b[33m\n",
      "\u001b[0m\u001b[33m  DEPRECATION: Configuring installation scheme with distutils config files is deprecated and will no longer work in the near future. If you are using a Homebrew or Linuxbrew Python, please see discussion at https://github.com/Homebrew/homebrew-core/issues/76621\u001b[0m\u001b[33m\n",
      "\u001b[0m\u001b[33m  DEPRECATION: Configuring installation scheme with distutils config files is deprecated and will no longer work in the near future. If you are using a Homebrew or Linuxbrew Python, please see discussion at https://github.com/Homebrew/homebrew-core/issues/76621\u001b[0m\u001b[33m\n",
      "\u001b[0m\u001b[33mDEPRECATION: Configuring installation scheme with distutils config files is deprecated and will no longer work in the near future. If you are using a Homebrew or Linuxbrew Python, please see discussion at https://github.com/Homebrew/homebrew-core/issues/76621\u001b[0m\u001b[33m\n",
      "\u001b[0mSuccessfully installed aiohttp-3.9.5 aiosignal-1.3.1 async-timeout-4.0.3 attrs-23.2.0 datasets-2.19.0 dill-0.3.8 frozenlist-1.4.1 multidict-6.0.5 multiprocess-0.70.16 pyarrow-16.0.0 pyarrow-hotfix-0.6 xxhash-3.4.1 yarl-1.9.4\n",
      "\u001b[33mWARNING: There was an error checking the latest version of pip.\u001b[0m\u001b[33m\n",
      "\u001b[0m"
     ]
    }
   ],
   "source": [
    "!pip install --upgrade openai\n",
    "!pip install transformers[torch]\n",
    "!pip install accelerate -U\n",
    "!pip install krippendorff\n",
    "!pip install datasets"
   ]
  },
  {
   "cell_type": "code",
   "execution_count": 4,
   "metadata": {},
   "outputs": [
    {
     "name": "stderr",
     "output_type": "stream",
     "text": [
      "/usr/local/lib/python3.9/site-packages/tqdm/auto.py:21: TqdmWarning: IProgress not found. Please update jupyter and ipywidgets. See https://ipywidgets.readthedocs.io/en/stable/user_install.html\n",
      "  from .autonotebook import tqdm as notebook_tqdm\n"
     ]
    }
   ],
   "source": [
    "# Import required Packages and Libraries\n",
    "import os\n",
    "import openai\n",
    "from openai import OpenAIError\n",
    "from openai import OpenAI\n",
    "\n",
    "import pandas as pd\n",
    "import time\n",
    "import json\n",
    "import numpy as np\n",
    "import random\n",
    "import re\n",
    "import os\n",
    "from sklearn.model_selection import train_test_split\n",
    "from sklearn.metrics import precision_score, recall_score, f1_score, roc_auc_score\n",
    "import krippendorff\n",
    "import torch\n",
    "from transformers import TrainingArguments, Trainer, EvalPrediction, AutoConfig, AutoTokenizer, AutoModelForSequenceClassification, IntervalStrategy\n",
    "from datasets import Dataset, DatasetDict\n",
    "from datetime import datetime"
   ]
  },
  {
   "cell_type": "code",
   "execution_count": 5,
   "metadata": {},
   "outputs": [],
   "source": [
    "client = OpenAI(api_key = \"sk-proj-nzxRWSLF2BlxuIZDtD50T3BlbkFJEbLOkIlSA9KlwIJJuCQz\")\n",
    "\n",
    "# Define a function to query OpenAI's models via the API\n",
    "def ask_gpt(System_Prompt, User_Query, tokens, temp=1.0, top_p=1.0, frequency_penalty=0.0, presence_penalty=0.0, model=\"gpt-4-turbo\"):\n",
    "    \"\"\"Function that Queries OpenAI API\"\"\"\n",
    "    response = client.chat.completions.create(\n",
    "        model=model,\n",
    "        messages=[\n",
    "            {\"role\": \"system\", \"content\": System_Prompt},\n",
    "            {\"role\": \"user\", \"content\": User_Query}],\n",
    "        max_tokens=tokens,\n",
    "        temperature=temp,\n",
    "        top_p=top_p,\n",
    "        frequency_penalty=frequency_penalty,\n",
    "        presence_penalty=presence_penalty\n",
    "    )\n",
    "    return response"
   ]
  },
  {
   "cell_type": "code",
   "execution_count": 6,
   "metadata": {},
   "outputs": [
    {
     "data": {
      "text/plain": [
       "0                                 opium founding father,\n",
       "1                                yall trippin fit clean,\n",
       "2                                  might destroy lonely,\n",
       "3                                     alr show us women,\n",
       "4                       bad think jeans ripped pull bad,\n",
       "                             ...                        \n",
       "495                                   wheres hood scarf,\n",
       "496                       cus dubai thats nissan altima,\n",
       "497                   park toyota dubai switch mercedes,\n",
       "498    south africa everything would gone including p...\n",
       "499                 thanks god thats love homeالحمدالله,\n",
       "Name: text, Length: 500, dtype: object"
      ]
     },
     "metadata": {},
     "output_type": "display_data"
    }
   ],
   "source": [
    "# 3. Define your Prompts:\n",
    "\n",
    "## System: Role, task, and format\n",
    "System_Prompt = \"\"\"\n",
    "You are an AI expert trained to analyze social media comments for insights into fashion brand perceptions and emotional sentiments. Your task is to interpret each comment, even when the references to brands or sentiments are indirect, and classify the comment into applicable categories based on the information provided.\n",
    "\n",
    "Brand perception categories:\n",
    "1. Product Quality: Indicate if the comment suggests any perception about the quality of fashion products.\n",
    "2. Reputation & Heritage: Determine if the comment reflects on the brand's history or reputation in the fashion industry.\n",
    "3. Customer Service: Assess if there are any mentions or implications regarding customer service experiences with fashion brands.\n",
    "4. Social Impact: Consider if the comment discusses the brand's role or actions in social issues.\n",
    "5. Ethical Practices: Evaluate any mentions of ethical practices by the fashion brand.\n",
    "6. Sustainability: Look for any discussions related to environmental sustainability of the brand.\n",
    "\n",
    "Emotional sentiments to identify based on the presence of specific keywords:\n",
    "- 'love', 'great', 'amazing', 'impressed', 'thrilled', 'excited'\n",
    "- 'horrible', 'bad', 'disappointed', 'terrible', 'worse', 'hate'\n",
    "\n",
    "Analyze the text, assign it to relevant brand perception categories, and determine the emotional sentiment based on the keywords or overall tone of the comment. If the comment does not contain explicit keywords, use your judgment to infer the sentiment from the context. Provide your findings in a structured format, listing both the identified brand perception categories and the emotional sentiment.\n",
    "If the comment even slightly vaguely implies something categorize it into categories i provided. If it's a reference or a very short phrase, still categoprize it. Don't leave any comment unlabeled in terms of brand perceotion and emotional sentiment. If the comment doesn't pertain to anything, randomly assign labels.\n",
    "\n",
    "For each comment, determine which brand perception categories and emotional sentiments apply. Provide your analysis in a structured format, with two columns: one for 'brand_labels' and one for 'emotion_labels'. List all applicable categories and sentiments in their respective columns, formatted as arrays. For example, a comment that is classified under both 'product quality' and 'reputation & heritage' for brand perception, and 'love' and 'admiration' for emotional sentiment, should be formatted as follows:\n",
    "\n",
    "Brand_labels: [\"product quality\", \"reputation & heritage\"]\n",
    "Emotion_labels: [\"love\", \"admiration\"]\n",
    "\n",
    "Please ensure to apply this structured approach to all comments, making judgment calls as necessary based on even slight or indirect implications within the comments.\n",
    "\"\"\"\n",
    "\n",
    "## User: The query you want to send to the model\n",
    "User_Query = comments[5]\n",
    "display(comments)"
   ]
  },
  {
   "cell_type": "code",
   "execution_count": 7,
   "metadata": {},
   "outputs": [
    {
     "data": {
      "text/plain": [
       "ChatCompletion(id='chatcmpl-9KzK40dBHwaFz1JPQWvJtX5U1KdMW', choices=[Choice(finish_reason='stop', index=0, logprobs=None, message=ChatCompletionMessage(content='Brand_labels: [\"Product Quality\"]\\nEmotion_labels: []', role='assistant', function_call=None, tool_calls=None))], created=1714789312, model='gpt-3.5-turbo-0125', object='chat.completion', system_fingerprint='fp_3b956da36b', usage=CompletionUsage(completion_tokens=12, prompt_tokens=542, total_tokens=554))"
      ]
     },
     "metadata": {},
     "output_type": "display_data"
    },
    {
     "name": "stdout",
     "output_type": "stream",
     "text": [
      "Brand_labels: [\"Product Quality\"]\n",
      "Emotion_labels: []\n"
     ]
    }
   ],
   "source": [
    "response = ask_gpt(System_Prompt, User_Query, tokens=1000, temp=0, model=\"gpt-3.5-turbo\")\n",
    "\n",
    "# Example usage\n",
    "display(response)\n",
    "\n",
    "answer = response.choices[0].message.content\n",
    "print(answer)"
   ]
  },
  {
   "cell_type": "code",
   "execution_count": 8,
   "metadata": {},
   "outputs": [],
   "source": [
    "myfunction = {\n",
    "  \"type\": \"function\",\n",
    "  \"function\": {\n",
    "    \"name\": \"predict_label\",\n",
    "    \"description\": \"Identify the brand perception category/categories and emotional sentiments based on the text\",\n",
    "    \"parameters\": {\n",
    "      \"type\": \"object\",\n",
    "      \"properties\": {\n",
    "        \"brand_labels\": {\n",
    "          \"type\": \"array\",\n",
    "          \"items\": {\n",
    "            \"type\": \"string\",\n",
    "            \"enum\": [\n",
    "              \"product quality\", \n",
    "              \"reputation & heritage\", \n",
    "              \"customer service\", \n",
    "              \"social impact\", \n",
    "              \"ethical practices\",\n",
    "              \"sustainability\"\n",
    "            ]\n",
    "          },\n",
    "          \"description\": \"Brand perception labels for the social media comments.\"\n",
    "        },\n",
    "        \"emotion_labels\": {\n",
    "          \"type\": \"array\",\n",
    "          \"items\": {\n",
    "            \"type\": \"string\",\n",
    "            \"enum\": [\n",
    "              \"love\", \n",
    "              \"admiration\", \n",
    "              \"disgust\", \n",
    "              \"disapproval\", \n",
    "              \"excitement\", \n",
    "              \"optimism\", \n",
    "              \"disappointment\", \n",
    "              \"approval\", \n",
    "              \"pride\"\n",
    "            ]\n",
    "          },\n",
    "          \"description\": \"Emotional sentiment labels for the social media comments.\"\n",
    "        }\n",
    "      },\n",
    "      \"required\": [\n",
    "        \"brand_labels\", \n",
    "        \"emotion_labels\"\n",
    "      ]\n",
    "    }\n",
    "  }\n",
    "}"
   ]
  },
  {
   "cell_type": "code",
   "execution_count": 9,
   "metadata": {},
   "outputs": [],
   "source": [
    "def classify_gpt(text, model=\"gpt-3.5-turbo\", tokens=200, temp=0.0, top_p=1.0, frequency_penalty=0.0, presence_penalty=0.0):\n",
    "    \"\"\"Function that uses OpenAI's API to classify text based on brand perception and emotional sentiment\"\"\"\n",
    "    try:\n",
    "        response = client.chat.completions.create(\n",
    "            model=model,\n",
    "            messages=[\n",
    "                {\"role\": \"system\", \"content\": System_Prompt},  # System prompt that explains the task to the model\n",
    "                {\"role\": \"user\", \"content\": text}  # User input that needs to be classified\n",
    "            ],\n",
    "            max_tokens=tokens,\n",
    "            temperature=temp,\n",
    "            top_p=top_p,\n",
    "            frequency_penalty=frequency_penalty,\n",
    "            presence_penalty=presence_penalty\n",
    "        )\n",
    "        # Correct way to access the response content and tokens\n",
    "        content = response.choices[0].message.content  # Directly accessing the 'content' attribute of the 'message' object\n",
    "        total_tokens = response.usage.total_tokens  # Directly accessing 'total_tokens' attribute of the 'usage' object\n",
    "        return content, total_tokens\n",
    "    except Exception as e:\n",
    "        return f\"Error: {str(e)}\", 0"
   ]
  },
  {
   "cell_type": "code",
   "execution_count": 10,
   "metadata": {},
   "outputs": [
    {
     "name": "stdout",
     "output_type": "stream",
     "text": [
      "Processed 50 comments\n",
      "Processed 100 comments\n",
      "Processed 150 comments\n",
      "Processed 200 comments\n",
      "Processed 250 comments\n",
      "Processed 300 comments\n",
      "Processed 350 comments\n",
      "Processed 400 comments\n",
      "Processed 450 comments\n",
      "Processed 500 comments\n",
      "Total time: 9.38 minutes\n"
     ]
    }
   ],
   "source": [
    "start_time = time.time()\n",
    "\n",
    "# 7. Get all texts classified\n",
    "results = []\n",
    "tokens_used = 0\n",
    "review_count = 0\n",
    "\n",
    "# Query for each text the OpenAI model\n",
    "for text in comments:\n",
    "\n",
    "  # Error handling becomes important when you work with APIs. We imported OpenAIError to show errors and allow us to handle them\n",
    "  try:\n",
    "    response, tokens = classify_gpt(text, top_p=0.1, model=\"gpt-4-turbo\")\n",
    "    results.append((text, response, tokens))\n",
    "    tokens_used += tokens\n",
    "    review_count += 1\n",
    "    if review_count % 50 == 0 and review_count != 0:\n",
    "      print(f\"Processed {review_count} comments\") #Check to see the progress every 50 reviews\n",
    "  except OpenAIError as e:\n",
    "    # Handle all OpenAI API errors\n",
    "    print(f\"Error: {e}\")\n",
    "\n",
    "# Calculate and print the elapsed time\n",
    "elapsed_time = time.time() - start_time\n",
    "if elapsed_time > 60:\n",
    "    print(f\"Total time: {elapsed_time / 60:.2f} minutes\")\n",
    "else:\n",
    "    print(f\"Total time: {elapsed_time:.2f} seconds\")"
   ]
  },
  {
   "cell_type": "code",
   "execution_count": 11,
   "metadata": {},
   "outputs": [
    {
     "name": "stdout",
     "output_type": "stream",
     "text": [
      "('opium founding father,', 'Brand_labels: [\"reputation & heritage\"]\\nEmotion_labels: []', 548)\n",
      "0      Brand_labels: [\"reputation & heritage\"]\\nEmoti...\n",
      "1      Brand_labels: [\"product quality\"]\\nEmotion_lab...\n",
      "2      Brand_labels: [\"reputation & heritage\"]\\nEmoti...\n",
      "3      Brand_labels: [\"reputation & heritage\"]\\nEmoti...\n",
      "4      Brand_labels: [\"product quality\"]\\nEmotion_lab...\n",
      "                             ...                        \n",
      "495    Brand_labels: [\"customer service\"]\\nEmotion_la...\n",
      "496    Brand_labels: [\"customer service\"]\\nEmotion_la...\n",
      "497    Brand_labels: [\"reputation & heritage\"]\\nEmoti...\n",
      "498    Brand_labels: [\"reputation & heritage\"]\\nEmoti...\n",
      "499    Brand_labels: [\"reputation & heritage\"]\\nEmoti...\n",
      "Name: labels, Length: 500, dtype: object\n"
     ]
    }
   ],
   "source": [
    "print(results[0])\n",
    "\n",
    "# 5. Create a dataframe from the results\n",
    "df = pd.DataFrame(results, columns=['Text', 'labels','Tokens_used'])\n",
    "df.head()\n",
    "print(df['labels'])"
   ]
  },
  {
   "cell_type": "code",
   "execution_count": 12,
   "metadata": {},
   "outputs": [],
   "source": [
    "df.to_csv('validated_labeled_data.csv', index=False)"
   ]
  },
  {
   "cell_type": "code",
   "execution_count": 18,
   "metadata": {},
   "outputs": [],
   "source": [
    "df = pd.read_csv('validated_labeled_data.csv')"
   ]
  },
  {
   "cell_type": "markdown",
   "metadata": {},
   "source": [
    "# 3. Cleaning the labeled dataset\n",
    "\n",
    "We decided to get rid of the emotion_labels because GPT couldn't categorize many comments into a set of emotions we provided. "
   ]
  },
  {
   "cell_type": "code",
   "execution_count": 19,
   "metadata": {},
   "outputs": [],
   "source": [
    "def parse_labels(label_string):\n",
    "    brand_labels = []\n",
    "    emotion_labels = []\n",
    "    \n",
    "    # Extract brand labels\n",
    "    brand_start = label_string.find(\"Brand_labels: [\") + len(\"Brand_labels: [\")\n",
    "    brand_end = label_string.find(\"]\", brand_start)\n",
    "    brand_labels_str = label_string[brand_start:brand_end]\n",
    "    if brand_labels_str:\n",
    "        brand_labels = [label.strip().strip('\"') for label in brand_labels_str.split(\",\")]\n",
    "    \n",
    "    # Extract emotion labels\n",
    "    emotion_start = label_string.find(\"Emotion_labels: [\") + len(\"Emotion_labels: [\")\n",
    "    emotion_end = label_string.find(\"]\", emotion_start)\n",
    "    emotion_labels_str = label_string[emotion_start:emotion_end]\n",
    "    if emotion_labels_str:\n",
    "        emotion_labels = [label.strip().strip('\"') for label in emotion_labels_str.split(\",\")]\n",
    "    \n",
    "    return brand_labels, emotion_labels\n",
    "\n",
    "# Apply the parsing function to the labels column\n",
    "df[['brand_label', 'emotion_label']] = df['labels'].apply(lambda x: pd.Series(parse_labels(x)))"
   ]
  },
  {
   "cell_type": "code",
   "execution_count": 20,
   "metadata": {},
   "outputs": [],
   "source": [
    "df = df.drop(['labels', 'Tokens_used'], axis=1)"
   ]
  },
  {
   "cell_type": "code",
   "execution_count": 21,
   "metadata": {},
   "outputs": [
    {
     "data": {
      "text/html": [
       "<div>\n",
       "<style scoped>\n",
       "    .dataframe tbody tr th:only-of-type {\n",
       "        vertical-align: middle;\n",
       "    }\n",
       "\n",
       "    .dataframe tbody tr th {\n",
       "        vertical-align: top;\n",
       "    }\n",
       "\n",
       "    .dataframe thead th {\n",
       "        text-align: right;\n",
       "    }\n",
       "</style>\n",
       "<table border=\"1\" class=\"dataframe\">\n",
       "  <thead>\n",
       "    <tr style=\"text-align: right;\">\n",
       "      <th></th>\n",
       "      <th>Text</th>\n",
       "      <th>brand_label</th>\n",
       "      <th>emotion_label</th>\n",
       "    </tr>\n",
       "  </thead>\n",
       "  <tbody>\n",
       "    <tr>\n",
       "      <th>0</th>\n",
       "      <td>opium founding father,</td>\n",
       "      <td>[reputation &amp; heritage]</td>\n",
       "      <td>[]</td>\n",
       "    </tr>\n",
       "    <tr>\n",
       "      <th>1</th>\n",
       "      <td>yall trippin fit clean,</td>\n",
       "      <td>[product quality]</td>\n",
       "      <td>[love]</td>\n",
       "    </tr>\n",
       "    <tr>\n",
       "      <th>2</th>\n",
       "      <td>might destroy lonely,</td>\n",
       "      <td>[reputation &amp; heritage]</td>\n",
       "      <td>[horrible]</td>\n",
       "    </tr>\n",
       "    <tr>\n",
       "      <th>3</th>\n",
       "      <td>alr show us women,</td>\n",
       "      <td>[reputation &amp; heritage]</td>\n",
       "      <td>[neutral]</td>\n",
       "    </tr>\n",
       "    <tr>\n",
       "      <th>4</th>\n",
       "      <td>bad think jeans ripped pull bad,</td>\n",
       "      <td>[product quality]</td>\n",
       "      <td>[bad]</td>\n",
       "    </tr>\n",
       "  </tbody>\n",
       "</table>\n",
       "</div>"
      ],
      "text/plain": [
       "                               Text              brand_label emotion_label\n",
       "0            opium founding father,  [reputation & heritage]            []\n",
       "1           yall trippin fit clean,        [product quality]        [love]\n",
       "2             might destroy lonely,  [reputation & heritage]    [horrible]\n",
       "3                alr show us women,  [reputation & heritage]     [neutral]\n",
       "4  bad think jeans ripped pull bad,        [product quality]         [bad]"
      ]
     },
     "execution_count": 21,
     "metadata": {},
     "output_type": "execute_result"
    }
   ],
   "source": [
    "df.head()"
   ]
  },
  {
   "cell_type": "code",
   "execution_count": 16,
   "metadata": {},
   "outputs": [
    {
     "data": {
      "text/html": [
       "<div>\n",
       "<style scoped>\n",
       "    .dataframe tbody tr th:only-of-type {\n",
       "        vertical-align: middle;\n",
       "    }\n",
       "\n",
       "    .dataframe tbody tr th {\n",
       "        vertical-align: top;\n",
       "    }\n",
       "\n",
       "    .dataframe thead th {\n",
       "        text-align: right;\n",
       "    }\n",
       "</style>\n",
       "<table border=\"1\" class=\"dataframe\">\n",
       "  <thead>\n",
       "    <tr style=\"text-align: right;\">\n",
       "      <th></th>\n",
       "      <th>Text</th>\n",
       "      <th>brand_label</th>\n",
       "      <th>emotion_label</th>\n",
       "    </tr>\n",
       "  </thead>\n",
       "  <tbody>\n",
       "    <tr>\n",
       "      <th>1</th>\n",
       "      <td>yall trippin fit clean,</td>\n",
       "      <td>[product quality]</td>\n",
       "      <td>[love]</td>\n",
       "    </tr>\n",
       "    <tr>\n",
       "      <th>2</th>\n",
       "      <td>might destroy lonely,</td>\n",
       "      <td>[reputation &amp; heritage]</td>\n",
       "      <td>[horrible]</td>\n",
       "    </tr>\n",
       "    <tr>\n",
       "      <th>3</th>\n",
       "      <td>alr show us women,</td>\n",
       "      <td>[reputation &amp; heritage]</td>\n",
       "      <td>[neutral]</td>\n",
       "    </tr>\n",
       "    <tr>\n",
       "      <th>4</th>\n",
       "      <td>bad think jeans ripped pull bad,</td>\n",
       "      <td>[product quality]</td>\n",
       "      <td>[bad]</td>\n",
       "    </tr>\n",
       "    <tr>\n",
       "      <th>5</th>\n",
       "      <td>itssbo bro somehow made opium look normal exce...</td>\n",
       "      <td>[product quality]</td>\n",
       "      <td>[neutral]</td>\n",
       "    </tr>\n",
       "  </tbody>\n",
       "</table>\n",
       "</div>"
      ],
      "text/plain": [
       "                                                Text              brand_label  \\\n",
       "1                            yall trippin fit clean,        [product quality]   \n",
       "2                              might destroy lonely,  [reputation & heritage]   \n",
       "3                                 alr show us women,  [reputation & heritage]   \n",
       "4                   bad think jeans ripped pull bad,        [product quality]   \n",
       "5  itssbo bro somehow made opium look normal exce...        [product quality]   \n",
       "\n",
       "  emotion_label  \n",
       "1        [love]  \n",
       "2    [horrible]  \n",
       "3     [neutral]  \n",
       "4         [bad]  \n",
       "5     [neutral]  "
      ]
     },
     "execution_count": 16,
     "metadata": {},
     "output_type": "execute_result"
    }
   ],
   "source": [
    "# # Filter out rows with empty emotion labels\n",
    "# df = df[df['emotion_label'].apply(lambda x: len(x) > 0)]\n",
    "\n",
    "# # Save the filtered data\n",
    "# df.head()"
   ]
  },
  {
   "cell_type": "code",
   "execution_count": 22,
   "metadata": {},
   "outputs": [
    {
     "data": {
      "text/html": [
       "<div>\n",
       "<style scoped>\n",
       "    .dataframe tbody tr th:only-of-type {\n",
       "        vertical-align: middle;\n",
       "    }\n",
       "\n",
       "    .dataframe tbody tr th {\n",
       "        vertical-align: top;\n",
       "    }\n",
       "\n",
       "    .dataframe thead th {\n",
       "        text-align: right;\n",
       "    }\n",
       "</style>\n",
       "<table border=\"1\" class=\"dataframe\">\n",
       "  <thead>\n",
       "    <tr style=\"text-align: right;\">\n",
       "      <th></th>\n",
       "      <th>Text</th>\n",
       "      <th>brand_label</th>\n",
       "      <th>emotion_label</th>\n",
       "    </tr>\n",
       "  </thead>\n",
       "  <tbody>\n",
       "    <tr>\n",
       "      <th>count</th>\n",
       "      <td>500</td>\n",
       "      <td>500</td>\n",
       "      <td>500</td>\n",
       "    </tr>\n",
       "    <tr>\n",
       "      <th>unique</th>\n",
       "      <td>497</td>\n",
       "      <td>11</td>\n",
       "      <td>25</td>\n",
       "    </tr>\n",
       "    <tr>\n",
       "      <th>top</th>\n",
       "      <td>easy,</td>\n",
       "      <td>[reputation &amp; heritage]</td>\n",
       "      <td>[]</td>\n",
       "    </tr>\n",
       "    <tr>\n",
       "      <th>freq</th>\n",
       "      <td>2</td>\n",
       "      <td>210</td>\n",
       "      <td>156</td>\n",
       "    </tr>\n",
       "  </tbody>\n",
       "</table>\n",
       "</div>"
      ],
      "text/plain": [
       "         Text              brand_label emotion_label\n",
       "count     500                      500           500\n",
       "unique    497                       11            25\n",
       "top     easy,  [reputation & heritage]            []\n",
       "freq        2                      210           156"
      ]
     },
     "execution_count": 22,
     "metadata": {},
     "output_type": "execute_result"
    }
   ],
   "source": [
    "df.describe()"
   ]
  },
  {
   "cell_type": "code",
   "execution_count": 23,
   "metadata": {},
   "outputs": [],
   "source": [
    "df.to_csv('validated_labeled_data_cleaned.csv', index=False)"
   ]
  },
  {
   "cell_type": "code",
   "execution_count": null,
   "metadata": {},
   "outputs": [],
   "source": []
  }
 ],
 "metadata": {
  "kernelspec": {
   "display_name": "Python 3",
   "language": "python",
   "name": "python3"
  },
  "language_info": {
   "codemirror_mode": {
    "name": "ipython",
    "version": 3
   },
   "file_extension": ".py",
   "mimetype": "text/x-python",
   "name": "python",
   "nbconvert_exporter": "python",
   "pygments_lexer": "ipython3",
   "version": "3.9.10"
  }
 },
 "nbformat": 4,
 "nbformat_minor": 2
}
